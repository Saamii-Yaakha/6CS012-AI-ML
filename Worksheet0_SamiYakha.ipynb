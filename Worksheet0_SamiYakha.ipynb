{
  "nbformat": 4,
  "nbformat_minor": 0,
  "metadata": {
    "colab": {
      "provenance": []
    },
    "kernelspec": {
      "name": "python3",
      "display_name": "Python 3"
    },
    "language_info": {
      "name": "python"
    }
  },
  "cells": [
    {
      "cell_type": "markdown",
      "source": [
        "**Worksheet-0**"
      ],
      "metadata": {
        "id": "kAcjgqvcviCh"
      }
    },
    {
      "cell_type": "markdown",
      "source": [
        "Task - 1: Unit Conversion Program"
      ],
      "metadata": {
        "id": "5lMmrJpPpsbo"
      }
    },
    {
      "cell_type": "code",
      "source": [
        "def convert_units():\n",
        "    \"\"\"\n",
        "    Converts between different units of measurement.\n",
        "    Supports length (meters to feet and vice versa),\n",
        "    weight (kilograms to pounds and vice versa),\n",
        "    and volume (liters to gallons and vice versa).\n",
        "    \"\"\"\n",
        "    def meters_to_feet(meters):\n",
        "        return meters * 3.28084\n",
        "\n",
        "    def feet_to_meters(feet):\n",
        "        return feet / 3.28084\n",
        "\n",
        "    def kilograms_to_pounds(kg):\n",
        "        return kg * 2.20462\n",
        "\n",
        "    def pounds_to_kilograms(pounds):\n",
        "        return pounds / 2.20462\n",
        "\n",
        "    def liters_to_gallons(liters):\n",
        "        return liters * 0.264172\n",
        "\n",
        "    def gallons_to_liters(gallons):\n",
        "        return gallons / 0.264172\n",
        "\n",
        "    print(\"Choose conversion type:\")\n",
        "    print(\"1. Length\")\n",
        "    print(\"2. Weight\")\n",
        "    print(\"3. Volume\")\n",
        "\n",
        "    choice = input(\"Enter choice (1/2/3): \")\n",
        "\n",
        "    if choice == \"1\":\n",
        "        print(\"Choose conversion subtype:\")\n",
        "        print(\"1. Meters to Feet\")\n",
        "        print(\"2. Feet to Meters\")\n",
        "        sub_choice = input(\"Enter choice (1/2): \")\n",
        "        value = float(input(\"Enter value to convert: \"))\n",
        "        if sub_choice == \"1\":\n",
        "            result = meters_to_feet(value)\n",
        "            print(f\"{value} meters is equal to {result} feet.\")\n",
        "        elif sub_choice == \"2\":\n",
        "            result = feet_to_meters(value)\n",
        "            print(f\"{value} feet is equal to {result} meters.\")\n",
        "        else:\n",
        "            print(\"Invalid choice.\")\n",
        "\n",
        "    elif choice == \"2\":\n",
        "        print(\"Choose conversion subtype:\")\n",
        "        print(\"1. Kilograms to Pounds\")\n",
        "        print(\"2. Pounds to Kilograms\")\n",
        "        sub_choice = input(\"Enter choice (1/2): \")\n",
        "        value = float(input(\"Enter value to convert: \"))\n",
        "        if sub_choice == \"1\":\n",
        "            result = kilograms_to_pounds(value)\n",
        "            print(f\"{value} kilograms is equal to {result} pounds.\")\n",
        "        elif sub_choice == \"2\":\n",
        "            result = pounds_to_kilograms(value)\n",
        "            print(f\"{value} pounds is equal to {result} kilograms.\")\n",
        "        else:\n",
        "            print(\"Invalid choice.\")\n",
        "\n",
        "    elif choice == \"3\":\n",
        "        print(\"Choose conversion subtype:\")\n",
        "        print(\"1. Liters to Gallons\")\n",
        "        print(\"2. Gallons to Liters\")\n",
        "        sub_choice = input(\"Enter choice (1/2): \")\n",
        "        value = float(input(\"Enter value to convert: \"))\n",
        "        if sub_choice == \"1\":\n",
        "            result = liters_to_gallons(value)\n",
        "            print(f\"{value} liters is equal to {result} gallons.\")\n",
        "        elif sub_choice == \"2\":\n",
        "            result = gallons_to_liters(value)\n",
        "            print(f\"{value} gallons is equal to {result} liters.\")\n",
        "        else:\n",
        "            print(\"Invalid choice.\")\n",
        "\n",
        "    else:\n",
        "        print(\"Invalid choice.\")\n",
        "\n",
        "convert_units()"
      ],
      "metadata": {
        "colab": {
          "base_uri": "https://localhost:8080/"
        },
        "id": "a6HkpQjhpvCw",
        "outputId": "fe772271-3265-464e-8064-9710b1ef04bd"
      },
      "execution_count": 4,
      "outputs": [
        {
          "output_type": "stream",
          "name": "stdout",
          "text": [
            "Choose conversion type:\n",
            "1. Length\n",
            "2. Weight\n",
            "3. Volume\n",
            "Enter choice (1/2/3): 3\n",
            "Choose conversion subtype:\n",
            "1. Liters to Gallons\n",
            "2. Gallons to Liters\n",
            "Enter choice (1/2): 2\n",
            "Enter value to convert: 50\n",
            "50.0 gallons is equal to 189.27062671289917 liters.\n"
          ]
        }
      ]
    },
    {
      "cell_type": "markdown",
      "source": [
        "Task - 2: Mathematical Operations on a List of Numbers\n"
      ],
      "metadata": {
        "id": "xpDlvRFJqNGh"
      }
    },
    {
      "cell_type": "code",
      "source": [
        "def math_operations():\n",
        "    \"\"\"\n",
        "    Performs various mathematical operations on a list of numbers.\n",
        "    Supports finding the sum, average, maximum, and minimum of the numbers.\n",
        "    \"\"\"\n",
        "    def calculate_sum(numbers):\n",
        "        return sum(numbers)\n",
        "\n",
        "    def calculate_average(numbers):\n",
        "        return sum(numbers) / len(numbers)\n",
        "\n",
        "    def find_maximum(numbers):\n",
        "        return max(numbers)\n",
        "\n",
        "    def find_minimum(numbers):\n",
        "        return min(numbers)\n",
        "\n",
        "    print(\"Choose an operation:\")\n",
        "    print(\"1. Sum\")\n",
        "    print(\"2. Average\")\n",
        "    print(\"3. Maximum\")\n",
        "    print(\"4. Minimum\")\n",
        "\n",
        "    choice = input(\"Enter choice (1/2/3/4): \")\n",
        "    try:\n",
        "        numbers = list(map(float, input(\"Enter numbers separated by spaces: \").split()))\n",
        "    except ValueError:\n",
        "        print(\"Invalid input. Please enter numeric values.\")\n",
        "        return\n",
        "\n",
        "    if choice == \"1\":\n",
        "        result = calculate_sum(numbers)\n",
        "        print(f\"Sum: {result}\")\n",
        "    elif choice == \"2\":\n",
        "        result = calculate_average(numbers)\n",
        "        print(f\"Average: {result}\")\n",
        "    elif choice == \"3\":\n",
        "        result = find_maximum(numbers)\n",
        "        print(f\"Maximum: {result}\")\n",
        "    elif choice == \"4\":\n",
        "        result = find_minimum(numbers)\n",
        "        print(f\"Minimum: {result}\")\n",
        "    else:\n",
        "        print(\"Invalid choice.\")\n",
        "\n",
        "math_operations()"
      ],
      "metadata": {
        "colab": {
          "base_uri": "https://localhost:8080/"
        },
        "id": "_HctTmI9qQk5",
        "outputId": "1d630490-ed76-4d3b-8e5e-a62b868ea274"
      },
      "execution_count": 7,
      "outputs": [
        {
          "output_type": "stream",
          "name": "stdout",
          "text": [
            "Choose an operation:\n",
            "1. Sum\n",
            "2. Average\n",
            "3. Maximum\n",
            "4. Minimum\n",
            "Enter choice (1/2/3/4): 4\n",
            "Enter numbers separated by spaces: 1 2 3 4 5 6\n",
            "Minimum: 1.0\n"
          ]
        }
      ]
    },
    {
      "cell_type": "markdown",
      "source": [
        "4.2 Exercise on List Manipulation\n",
        "1. Extract Every Other Element"
      ],
      "metadata": {
        "id": "ImcEq2tdqye5"
      }
    },
    {
      "cell_type": "code",
      "source": [
        "def extract_every_other(lst):\n",
        "    return lst[::2]\n",
        "\n",
        "# Example usage\n",
        "print(extract_every_other([1, 2, 3, 4, 5, 6]))\n"
      ],
      "metadata": {
        "colab": {
          "base_uri": "https://localhost:8080/"
        },
        "id": "CX_TtDWQqz_5",
        "outputId": "819b2bdc-4d68-4e85-96d8-ddff34e54d84"
      },
      "execution_count": 8,
      "outputs": [
        {
          "output_type": "stream",
          "name": "stdout",
          "text": [
            "[1, 3, 5]\n"
          ]
        }
      ]
    },
    {
      "cell_type": "markdown",
      "source": [
        "2. Slice a Sublist"
      ],
      "metadata": {
        "id": "i6UuAYcfq4If"
      }
    },
    {
      "cell_type": "code",
      "source": [
        "def get_sublist(lst, start, end):\n",
        "    return lst[start:end+1]\n",
        "\n",
        "# Example usage\n",
        "print(get_sublist([1, 2, 3, 4, 5, 6], 2, 4))\n"
      ],
      "metadata": {
        "colab": {
          "base_uri": "https://localhost:8080/"
        },
        "id": "_en648nUq6ED",
        "outputId": "e4caac61-1f22-4e2a-ee9c-6ea62da0171d"
      },
      "execution_count": 9,
      "outputs": [
        {
          "output_type": "stream",
          "name": "stdout",
          "text": [
            "[3, 4, 5]\n"
          ]
        }
      ]
    },
    {
      "cell_type": "markdown",
      "source": [
        "3. Reverse a List Using Slicing"
      ],
      "metadata": {
        "id": "nuTiPvmWq9sy"
      }
    },
    {
      "cell_type": "code",
      "source": [
        "def reverse_list(lst):\n",
        "    return lst[::-1]\n",
        "\n",
        "# Example usage\n",
        "print(reverse_list([1, 2, 3, 4, 5]))\n"
      ],
      "metadata": {
        "colab": {
          "base_uri": "https://localhost:8080/"
        },
        "id": "R28CrjcSq_7t",
        "outputId": "f56cbd36-bc26-4186-f519-86a14dae740d"
      },
      "execution_count": 10,
      "outputs": [
        {
          "output_type": "stream",
          "name": "stdout",
          "text": [
            "[5, 4, 3, 2, 1]\n"
          ]
        }
      ]
    },
    {
      "cell_type": "markdown",
      "source": [
        "4. Remove the First and Last Elements"
      ],
      "metadata": {
        "id": "gzhIrPlXrHjT"
      }
    },
    {
      "cell_type": "code",
      "source": [
        "def remove_first_last(lst):\n",
        "    return lst[1:-1]\n",
        "\n",
        "# Example usage\n",
        "print(remove_first_last([1, 2, 3, 4, 5]))"
      ],
      "metadata": {
        "colab": {
          "base_uri": "https://localhost:8080/"
        },
        "id": "6la4D6IErKRF",
        "outputId": "d0c86c27-bb80-41e3-80fb-73f9fa29a423"
      },
      "execution_count": 11,
      "outputs": [
        {
          "output_type": "stream",
          "name": "stdout",
          "text": [
            "[2, 3, 4]\n"
          ]
        }
      ]
    },
    {
      "cell_type": "markdown",
      "source": [
        "5. Get the First n Elements"
      ],
      "metadata": {
        "id": "KydQKhODrQ4z"
      }
    },
    {
      "cell_type": "code",
      "source": [
        "def get_first_n(lst, n):\n",
        "    return lst[:n]\n",
        "\n",
        "# Example usage\n",
        "print(get_first_n([1, 2, 3, 4, 5], 3))"
      ],
      "metadata": {
        "colab": {
          "base_uri": "https://localhost:8080/"
        },
        "id": "I1kPnR2wrTdA",
        "outputId": "3c966aa1-fe43-42d3-88d6-5fcf317385a5"
      },
      "execution_count": 12,
      "outputs": [
        {
          "output_type": "stream",
          "name": "stdout",
          "text": [
            "[1, 2, 3]\n"
          ]
        }
      ]
    },
    {
      "cell_type": "markdown",
      "source": [
        "##Problem - 1: Array Creation"
      ],
      "metadata": {
        "id": "EGpxvd2GrWjQ"
      }
    },
    {
      "cell_type": "markdown",
      "source": [
        "6. Extract Elements from the End"
      ],
      "metadata": {
        "id": "vq_pGHCdrYnZ"
      }
    },
    {
      "cell_type": "code",
      "source": [
        "def get_last_n(lst, n):\n",
        "    return lst[-n:]\n",
        "\n",
        "# Example usage\n",
        "print(get_last_n([1, 2, 3, 4, 5], 2))"
      ],
      "metadata": {
        "colab": {
          "base_uri": "https://localhost:8080/"
        },
        "id": "6BCQe4nlrb89",
        "outputId": "f6cecbd6-ac9b-4b65-aa63-3554365f3da6"
      },
      "execution_count": 13,
      "outputs": [
        {
          "output_type": "stream",
          "name": "stdout",
          "text": [
            "[4, 5]\n"
          ]
        }
      ]
    },
    {
      "cell_type": "markdown",
      "source": [
        "7. Extract Elements in Reverse Order"
      ],
      "metadata": {
        "id": "3RVHFWUfrfMF"
      }
    },
    {
      "cell_type": "code",
      "source": [
        "def reverse_skip(lst):\n",
        "    return lst[-2::-2]\n",
        "\n",
        "# Example usage\n",
        "print(reverse_skip([1, 2, 3, 4, 5, 6]))"
      ],
      "metadata": {
        "colab": {
          "base_uri": "https://localhost:8080/"
        },
        "id": "FoE2YcrorhQQ",
        "outputId": "d26a973e-b168-4ed5-e1a1-485a0ee285db"
      },
      "execution_count": 14,
      "outputs": [
        {
          "output_type": "stream",
          "name": "stdout",
          "text": [
            "[5, 3, 1]\n"
          ]
        }
      ]
    },
    {
      "cell_type": "markdown",
      "source": [
        "4.3 Exercise on Nested List\n",
        "1. Flatten a Nested List"
      ],
      "metadata": {
        "id": "4MPmAxt8sLbp"
      }
    },
    {
      "cell_type": "code",
      "source": [
        "def flatten(lst):\n",
        "    flat_list = []\n",
        "    for item in lst:\n",
        "        if isinstance(item, list):\n",
        "            flat_list.extend(flatten(item))\n",
        "        else:\n",
        "            flat_list.append(item)\n",
        "    return flat_list\n",
        "\n",
        "# Example usage\n",
        "print(flatten([[1, 2], [3, 4], [5]]))"
      ],
      "metadata": {
        "colab": {
          "base_uri": "https://localhost:8080/"
        },
        "id": "E4T8DmZLsNhi",
        "outputId": "64100a9f-844a-4c9d-f23b-19fd8afd5944"
      },
      "execution_count": 15,
      "outputs": [
        {
          "output_type": "stream",
          "name": "stdout",
          "text": [
            "[1, 2, 3, 4, 5]\n"
          ]
        }
      ]
    },
    {
      "cell_type": "markdown",
      "source": [
        "2. Accessing Nested List Elements"
      ],
      "metadata": {
        "id": "9k8FKDw3sQNg"
      }
    },
    {
      "cell_type": "code",
      "source": [
        "def access_nested_element(lst, indices):\n",
        "    element = lst\n",
        "    for index in indices:\n",
        "        element = element[index]\n",
        "    return element\n",
        "\n",
        "# Example usage\n",
        "print(access_nested_element([[1, 2, 3], [4, 5, 6], [7, 8, 9]], [1, 2]))"
      ],
      "metadata": {
        "colab": {
          "base_uri": "https://localhost:8080/"
        },
        "id": "ILa-fqWhsSWS",
        "outputId": "eb2404bc-74eb-4c87-98e4-7d06dde55a39"
      },
      "execution_count": 16,
      "outputs": [
        {
          "output_type": "stream",
          "name": "stdout",
          "text": [
            "6\n"
          ]
        }
      ]
    },
    {
      "cell_type": "markdown",
      "source": [
        "3. Sum of All Elements in a Nested List"
      ],
      "metadata": {
        "id": "VZ3JbBDNsVUH"
      }
    },
    {
      "cell_type": "code",
      "source": [
        "def sum_nested(lst):\n",
        "    total = 0\n",
        "    for item in lst:\n",
        "        if isinstance(item, list):\n",
        "            total += sum_nested(item)\n",
        "        else:\n",
        "            total += item\n",
        "    return total\n",
        "\n",
        "# Example usage\n",
        "print(sum_nested([[1, 2], [3, [4, 5]], 6]))\n"
      ],
      "metadata": {
        "colab": {
          "base_uri": "https://localhost:8080/"
        },
        "id": "ZtYeza44sWuz",
        "outputId": "31593fc4-37e6-42e1-9033-6ad29418018f"
      },
      "execution_count": 17,
      "outputs": [
        {
          "output_type": "stream",
          "name": "stdout",
          "text": [
            "21\n"
          ]
        }
      ]
    },
    {
      "cell_type": "markdown",
      "source": [
        "4. Remove Specific Element from a Nested List"
      ],
      "metadata": {
        "id": "SnifJorQsaAX"
      }
    },
    {
      "cell_type": "code",
      "source": [
        "def remove_element(lst, elem):\n",
        "    return [[x for x in sublist if x != elem] for sublist in lst]\n",
        "\n",
        "# Example usage\n",
        "print(remove_element([[1, 2], [3, 2], [4, 5]], 2))\n"
      ],
      "metadata": {
        "colab": {
          "base_uri": "https://localhost:8080/"
        },
        "id": "NCQpnZz7sb2H",
        "outputId": "12f01944-1974-427b-bd47-3659d8d55911"
      },
      "execution_count": 18,
      "outputs": [
        {
          "output_type": "stream",
          "name": "stdout",
          "text": [
            "[[1], [3], [4, 5]]\n"
          ]
        }
      ]
    },
    {
      "cell_type": "markdown",
      "source": [
        "5. Find the Maximum Element in a Nested List"
      ],
      "metadata": {
        "id": "txH1kmRbsfqH"
      }
    },
    {
      "cell_type": "code",
      "source": [
        "def find_max(lst):\n",
        "    max_elem = float('-inf')\n",
        "    for item in lst:\n",
        "        if isinstance(item, list):\n",
        "            max_elem = max(max_elem, find_max(item))\n",
        "        else:\n",
        "            max_elem = max(max_elem, item)\n",
        "    return max_elem\n",
        "\n",
        "# Example usage\n",
        "print(find_max([[1, 2], [3, [4, 5]], 6]))"
      ],
      "metadata": {
        "colab": {
          "base_uri": "https://localhost:8080/"
        },
        "id": "48KsvDQLshem",
        "outputId": "060aff51-12e1-4672-df66-1849f7d4d593"
      },
      "execution_count": 19,
      "outputs": [
        {
          "output_type": "stream",
          "name": "stdout",
          "text": [
            "6\n"
          ]
        }
      ]
    },
    {
      "cell_type": "markdown",
      "source": [
        "6. Count Occurrences of an Element in a Nested List"
      ],
      "metadata": {
        "id": "eCyjc1hKsldg"
      }
    },
    {
      "cell_type": "code",
      "source": [
        "def count_occurrences(lst, elem):\n",
        "    count = 0\n",
        "    for item in lst:\n",
        "        if isinstance(item, list):\n",
        "            count += count_occurrences(item, elem)\n",
        "        elif item == elem:\n",
        "            count += 1\n",
        "    return count\n",
        "\n",
        "# Example usage\n",
        "print(count_occurrences([[1, 2], [2, 3], [2, 4]], 2))"
      ],
      "metadata": {
        "colab": {
          "base_uri": "https://localhost:8080/"
        },
        "id": "vMsuUPBtsp_a",
        "outputId": "da2b9a06-845d-40c1-f976-98104801b91f"
      },
      "execution_count": 20,
      "outputs": [
        {
          "output_type": "stream",
          "name": "stdout",
          "text": [
            "3\n"
          ]
        }
      ]
    },
    {
      "cell_type": "markdown",
      "source": [
        "7. Flatten a List of Lists of Lists"
      ],
      "metadata": {
        "id": "gnqIrsqqss3T"
      }
    },
    {
      "cell_type": "code",
      "source": [
        "def deep_flatten(lst):\n",
        "    flat_list = []\n",
        "    for item in lst:\n",
        "        if isinstance(item, list):\n",
        "            flat_list.extend(deep_flatten(item))\n",
        "        else:\n",
        "            flat_list.append(item)\n",
        "    return flat_list\n",
        "\n",
        "# Example usage\n",
        "print(deep_flatten([[[1, 2], [3, 4]], [[5, 6], [7, 8]]]))  # Output: [1, 2, 3, 4, 5, 6, 7, 8]\n"
      ],
      "metadata": {
        "colab": {
          "base_uri": "https://localhost:8080/"
        },
        "id": "M9_YJ5u-suya",
        "outputId": "a5f2e6ec-4487-4f2d-a443-b488fee5a210"
      },
      "execution_count": 21,
      "outputs": [
        {
          "output_type": "stream",
          "name": "stdout",
          "text": [
            "[1, 2, 3, 4, 5, 6, 7, 8]\n"
          ]
        }
      ]
    },
    {
      "cell_type": "markdown",
      "source": [
        "8. Nested List Average"
      ],
      "metadata": {
        "id": "4Rov-oTxsxpo"
      }
    },
    {
      "cell_type": "code",
      "source": [
        "def average_nested(lst):\n",
        "    total, count = 0, 0\n",
        "    for item in lst:\n",
        "        if isinstance(item, list):\n",
        "            sub_total, sub_count = average_nested(item)  # Get total and count from sublist\n",
        "            total += sub_total\n",
        "            count += sub_count\n",
        "        else:\n",
        "            total += item\n",
        "            count += 1\n",
        "    return (total, count) if count else (0, 0)  # Return total and count as a tuple\n",
        "\n",
        "# Wrapper function to get only the average\n",
        "def get_average(lst):\n",
        "    total, count = average_nested(lst)\n",
        "    return total / count if count else 0\n",
        "\n",
        "# Example usage\n",
        "print(get_average([[1, 2], [3, 4], [5, 6]]))"
      ],
      "metadata": {
        "colab": {
          "base_uri": "https://localhost:8080/"
        },
        "id": "kRp0_EL4sz8k",
        "outputId": "46aa7f24-5fe5-4703-b77d-2a5ec29d3a2f"
      },
      "execution_count": 22,
      "outputs": [
        {
          "output_type": "stream",
          "name": "stdout",
          "text": [
            "3.5\n"
          ]
        }
      ]
    },
    {
      "cell_type": "markdown",
      "source": [
        "###1. Initializing Empty Array (2 * 2)"
      ],
      "metadata": {
        "id": "ytWkpDG0xFZY"
      }
    },
    {
      "cell_type": "markdown",
      "source": [
        "##Importing Necessary Libraries"
      ],
      "metadata": {
        "id": "ybJxr15zuspL"
      }
    },
    {
      "cell_type": "code",
      "source": [
        "import numpy as np\n",
        "import time"
      ],
      "metadata": {
        "id": "nUYAOlZjujeE"
      },
      "execution_count": 23,
      "outputs": []
    },
    {
      "cell_type": "code",
      "source": [
        "array = np.empty((2, 2))\n",
        "array #contains garbage values"
      ],
      "metadata": {
        "colab": {
          "base_uri": "https://localhost:8080/"
        },
        "id": "h8pmqU0MwTTW",
        "outputId": "9131b8bf-76cf-48a7-d672-0d9ad4b2294d"
      },
      "execution_count": null,
      "outputs": [
        {
          "output_type": "execute_result",
          "data": {
            "text/plain": [
              "array([[2.73346655e-316, 0.00000000e+000],\n",
              "       [3.68294577e-304, 2.42092166e-322]])"
            ]
          },
          "metadata": {},
          "execution_count": 2
        }
      ]
    },
    {
      "cell_type": "code",
      "source": [
        "array = np.zeros((2, 2))\n",
        "array #initializes with 0"
      ],
      "metadata": {
        "colab": {
          "base_uri": "https://localhost:8080/"
        },
        "id": "Jt6LWY86wXOB",
        "outputId": "e135400d-f911-4766-b73f-05304a6fde42"
      },
      "execution_count": null,
      "outputs": [
        {
          "output_type": "execute_result",
          "data": {
            "text/plain": [
              "array([[0., 0.],\n",
              "       [0., 0.]])"
            ]
          },
          "metadata": {},
          "execution_count": 3
        }
      ]
    },
    {
      "cell_type": "code",
      "source": [
        "array = np.full((2, 2), 20) #you can specify your initialization value\n",
        "array #20"
      ],
      "metadata": {
        "colab": {
          "base_uri": "https://localhost:8080/"
        },
        "id": "ROgOt9KuwZdx",
        "outputId": "770b467e-f624-4e78-8aa2-60e47e32685c"
      },
      "execution_count": null,
      "outputs": [
        {
          "output_type": "execute_result",
          "data": {
            "text/plain": [
              "array([[20, 20],\n",
              "       [20, 20]])"
            ]
          },
          "metadata": {},
          "execution_count": 4
        }
      ]
    },
    {
      "cell_type": "markdown",
      "source": [
        "###2. Initializing all one array (4 * 2)"
      ],
      "metadata": {
        "id": "bSOMYCL_xH9f"
      }
    },
    {
      "cell_type": "code",
      "source": [
        "array = np.ones((4, 2), dtype=int) #set type to integer initiall float\n",
        "array"
      ],
      "metadata": {
        "colab": {
          "base_uri": "https://localhost:8080/"
        },
        "id": "IUy3NZb4weRM",
        "outputId": "db8f7d99-bf96-4ec2-a933-0f5dd96ad1de"
      },
      "execution_count": null,
      "outputs": [
        {
          "output_type": "execute_result",
          "data": {
            "text/plain": [
              "array([[1, 1],\n",
              "       [1, 1],\n",
              "       [1, 1],\n",
              "       [1, 1]])"
            ]
          },
          "metadata": {},
          "execution_count": 5
        }
      ]
    },
    {
      "cell_type": "code",
      "source": [
        "array = np.full((4, 2), 1)\n",
        "array"
      ],
      "metadata": {
        "colab": {
          "base_uri": "https://localhost:8080/"
        },
        "id": "n0KzR3NOwiZL",
        "outputId": "a1a503db-1113-4498-8411-336e50f4ca62"
      },
      "execution_count": null,
      "outputs": [
        {
          "output_type": "execute_result",
          "data": {
            "text/plain": [
              "array([[1, 1],\n",
              "       [1, 1],\n",
              "       [1, 1],\n",
              "       [1, 1]])"
            ]
          },
          "metadata": {},
          "execution_count": 6
        }
      ]
    },
    {
      "cell_type": "markdown",
      "source": [
        "###3. New Array of Given Shape and type filled with fill value"
      ],
      "metadata": {
        "id": "y8e-SI1mxOQz"
      }
    },
    {
      "cell_type": "code",
      "source": [
        "array = np.full((4, 4), 9, dtype=int)\n",
        "array"
      ],
      "metadata": {
        "colab": {
          "base_uri": "https://localhost:8080/"
        },
        "id": "Co1edp1mwpQp",
        "outputId": "bdd655b1-ebbb-4f18-fc2b-4820387cd10e"
      },
      "execution_count": null,
      "outputs": [
        {
          "output_type": "execute_result",
          "data": {
            "text/plain": [
              "array([[9, 9, 9, 9],\n",
              "       [9, 9, 9, 9],\n",
              "       [9, 9, 9, 9],\n",
              "       [9, 9, 9, 9]])"
            ]
          },
          "metadata": {},
          "execution_count": 7
        }
      ]
    },
    {
      "cell_type": "markdown",
      "source": [
        "###4. New array of zeros with same shape and type as given array"
      ],
      "metadata": {
        "id": "aGxBkoBVxRlk"
      }
    },
    {
      "cell_type": "code",
      "source": [
        "array = np.full((4, 4), 8)\n",
        "new_array = np.zeros_like(array)\n",
        "new_array"
      ],
      "metadata": {
        "colab": {
          "base_uri": "https://localhost:8080/"
        },
        "id": "pw8ZQ8Yywt1K",
        "outputId": "d93de629-4f0c-4295-dff7-4f950aeb109f"
      },
      "execution_count": null,
      "outputs": [
        {
          "output_type": "execute_result",
          "data": {
            "text/plain": [
              "array([[0, 0, 0, 0],\n",
              "       [0, 0, 0, 0],\n",
              "       [0, 0, 0, 0],\n",
              "       [0, 0, 0, 0]])"
            ]
          },
          "metadata": {},
          "execution_count": 9
        }
      ]
    },
    {
      "cell_type": "markdown",
      "source": [
        "###5. New array of ones with same shape and type as given array"
      ],
      "metadata": {
        "id": "t41rwnnkxW8E"
      }
    },
    {
      "cell_type": "code",
      "source": [
        "array = np.full((4, 3), 8)\n",
        "new_array = np.ones_like(array)\n",
        "new_array"
      ],
      "metadata": {
        "colab": {
          "base_uri": "https://localhost:8080/"
        },
        "id": "PuBD1ca-wxTS",
        "outputId": "c24722c8-a91a-4152-9bf4-62ca46346852"
      },
      "execution_count": null,
      "outputs": [
        {
          "output_type": "execute_result",
          "data": {
            "text/plain": [
              "array([[1, 1, 1],\n",
              "       [1, 1, 1],\n",
              "       [1, 1, 1],\n",
              "       [1, 1, 1]])"
            ]
          },
          "metadata": {},
          "execution_count": 10
        }
      ]
    },
    {
      "cell_type": "markdown",
      "source": [
        "###6. Convert to NumPy array"
      ],
      "metadata": {
        "id": "vPX6R8_UxbYo"
      }
    },
    {
      "cell_type": "code",
      "source": [
        "new_list = [1, 2, 3, 4]\n",
        "np_list = np.array(new_list)\n",
        "print(\"Normal List: \", new_list)\n",
        "print(\"Numpy List: \", np_list)"
      ],
      "metadata": {
        "colab": {
          "base_uri": "https://localhost:8080/"
        },
        "id": "8Y1wb1p5w2-F",
        "outputId": "82634a7d-df26-4b57-d2c4-3a13eb6c5205"
      },
      "execution_count": null,
      "outputs": [
        {
          "output_type": "stream",
          "name": "stdout",
          "text": [
            "Normal List:  [1, 2, 3, 4]\n",
            "Numpy List:  [1 2 3 4]\n"
          ]
        }
      ]
    },
    {
      "cell_type": "markdown",
      "source": [
        "##Problem - 2: Array Manipulation: Numerical Ranges and Array Indexing"
      ],
      "metadata": {
        "id": "4tAFcfboxfsG"
      }
    },
    {
      "cell_type": "markdown",
      "source": [
        "###1. Create an array with values ranging from 10 to 49"
      ],
      "metadata": {
        "id": "xolFuJNIw8sV"
      }
    },
    {
      "cell_type": "code",
      "source": [
        "array = np.arange(10, 50)\n",
        "array"
      ],
      "metadata": {
        "colab": {
          "base_uri": "https://localhost:8080/"
        },
        "id": "VWArhNvJw92n",
        "outputId": "b1d78323-ff4e-4773-abd4-f36ae62106fc"
      },
      "execution_count": null,
      "outputs": [
        {
          "output_type": "execute_result",
          "data": {
            "text/plain": [
              "array([10, 11, 12, 13, 14, 15, 16, 17, 18, 19, 20, 21, 22, 23, 24, 25, 26,\n",
              "       27, 28, 29, 30, 31, 32, 33, 34, 35, 36, 37, 38, 39, 40, 41, 42, 43,\n",
              "       44, 45, 46, 47, 48, 49])"
            ]
          },
          "metadata": {},
          "execution_count": 12
        }
      ]
    },
    {
      "cell_type": "markdown",
      "source": [
        "###2. Create a 3X3 matrix with values ranging from 0 to 8"
      ],
      "metadata": {
        "id": "AbI7BGB7xk_N"
      }
    },
    {
      "cell_type": "code",
      "source": [
        "array = np.arange(0, 9)\n",
        "reshaped = np.reshape(array, (3, 3))\n",
        "print(array)\n",
        "print(reshaped)"
      ],
      "metadata": {
        "colab": {
          "base_uri": "https://localhost:8080/"
        },
        "id": "nIKe0qLNxmpe",
        "outputId": "b6459a7d-e502-4f16-ccc7-64d200a3d75b"
      },
      "execution_count": null,
      "outputs": [
        {
          "output_type": "stream",
          "name": "stdout",
          "text": [
            "[0 1 2 3 4 5 6 7 8]\n",
            "[[0 1 2]\n",
            " [3 4 5]\n",
            " [6 7 8]]\n"
          ]
        }
      ]
    },
    {
      "cell_type": "markdown",
      "source": [
        "###3. Create a 3*3 identity matrix"
      ],
      "metadata": {
        "id": "btF77GcFxpx8"
      }
    },
    {
      "cell_type": "code",
      "source": [
        "array = np.eye(3, dtype=int)\n",
        "array"
      ],
      "metadata": {
        "colab": {
          "base_uri": "https://localhost:8080/"
        },
        "id": "pKkfUz8GxqoC",
        "outputId": "fbbaf1b1-ee84-49c7-9577-5e36d0043921"
      },
      "execution_count": null,
      "outputs": [
        {
          "output_type": "execute_result",
          "data": {
            "text/plain": [
              "array([[1, 0, 0],\n",
              "       [0, 1, 0],\n",
              "       [0, 0, 1]])"
            ]
          },
          "metadata": {},
          "execution_count": 14
        }
      ]
    },
    {
      "cell_type": "markdown",
      "source": [
        "###4. Random Array Size 30 and Mean"
      ],
      "metadata": {
        "id": "l_aUPaGBxvne"
      }
    },
    {
      "cell_type": "code",
      "source": [
        "random_arr = np.random.random(30)\n",
        "\n",
        "mean_arr = random_arr.mean()\n",
        "\n",
        "print(random_arr)\n",
        "print(\"Mean: \", mean_arr)"
      ],
      "metadata": {
        "colab": {
          "base_uri": "https://localhost:8080/"
        },
        "id": "DcDcNZmlxxlI",
        "outputId": "3c65cc29-f0d2-469f-e398-e6f09eb29c28"
      },
      "execution_count": null,
      "outputs": [
        {
          "output_type": "stream",
          "name": "stdout",
          "text": [
            "[0.66822328 0.34615597 0.63517061 0.67252356 0.87930244 0.62430847\n",
            " 0.974359   0.53783662 0.89199436 0.99231447 0.99374129 0.59583444\n",
            " 0.87589245 0.8750383  0.22427383 0.90493439 0.00545217 0.91974371\n",
            " 0.31453066 0.77060442 0.96896625 0.99871804 0.01698912 0.67665621\n",
            " 0.45681481 0.26329935 0.05565494 0.15286572 0.53658038 0.56358604]\n",
            "Mean:  0.613078843142257\n"
          ]
        }
      ]
    },
    {
      "cell_type": "markdown",
      "source": [
        "###5. Create a 10X10 array with random values and find the minimum and maximum values"
      ],
      "metadata": {
        "id": "7bXbUEJix4pL"
      }
    },
    {
      "cell_type": "code",
      "source": [
        "# random_arr = np.random.random((10, 10))\n",
        "random_arr = np.random.randint(1, 10, (10, 10))\n",
        "min = random_arr.min()\n",
        "max = random_arr.max()\n",
        "\n",
        "print(random_arr)\n",
        "print()\n",
        "print(\"Min: \", min)\n",
        "print(\"Max: \", max)"
      ],
      "metadata": {
        "colab": {
          "base_uri": "https://localhost:8080/"
        },
        "id": "Z1beEMy2x6rZ",
        "outputId": "05664189-dc65-4c6c-da1d-238abe5ddadc"
      },
      "execution_count": null,
      "outputs": [
        {
          "output_type": "stream",
          "name": "stdout",
          "text": [
            "[[7 1 6 3 8 2 9 8 1 5]\n",
            " [8 5 5 4 2 5 1 7 1 1]\n",
            " [1 4 5 1 3 4 2 2 7 2]\n",
            " [5 8 8 1 2 9 4 8 2 7]\n",
            " [8 2 4 9 5 5 9 1 3 3]\n",
            " [6 1 1 4 3 2 5 2 9 8]\n",
            " [8 7 8 4 3 2 2 6 5 6]\n",
            " [3 2 4 7 4 8 7 2 9 4]\n",
            " [7 6 5 3 2 2 2 6 7 2]\n",
            " [5 9 2 7 3 4 1 9 4 9]]\n",
            "\n",
            "Min:  1\n",
            "Max:  9\n"
          ]
        }
      ]
    },
    {
      "cell_type": "markdown",
      "source": [
        "###6. Create a zero array of size 10 and replace 5th element with 1"
      ],
      "metadata": {
        "id": "urrUxsdhx-CR"
      }
    },
    {
      "cell_type": "code",
      "source": [
        "array = np.zeros(10, dtype=int)\n",
        "print(array)\n",
        "array[4] = 1\n",
        "print(array)"
      ],
      "metadata": {
        "colab": {
          "base_uri": "https://localhost:8080/"
        },
        "id": "imLNkT49x_sg",
        "outputId": "5edb7593-5242-4e28-84c6-34e1076fa2c9"
      },
      "execution_count": null,
      "outputs": [
        {
          "output_type": "stream",
          "name": "stdout",
          "text": [
            "[0 0 0 0 0 0 0 0 0 0]\n",
            "[0 0 0 0 1 0 0 0 0 0]\n"
          ]
        }
      ]
    },
    {
      "cell_type": "markdown",
      "source": [
        "###7. Reverse an array"
      ],
      "metadata": {
        "id": "fJm7zGOmyD2F"
      }
    },
    {
      "cell_type": "code",
      "source": [
        "array = [1 , 2, 0, 0, 4, 0]\n",
        "rev_arr = array[::-1]\n",
        "rev_arr"
      ],
      "metadata": {
        "colab": {
          "base_uri": "https://localhost:8080/"
        },
        "id": "-SbHTjeFyG_s",
        "outputId": "200db229-d86d-4813-e041-876d1a65f2f3"
      },
      "execution_count": null,
      "outputs": [
        {
          "output_type": "execute_result",
          "data": {
            "text/plain": [
              "[0, 4, 0, 0, 2, 1]"
            ]
          },
          "metadata": {},
          "execution_count": 18
        }
      ]
    },
    {
      "cell_type": "markdown",
      "source": [
        "###8. Create a 2d array with 1 on border and 0 inside"
      ],
      "metadata": {
        "id": "VO_qB5f6yKYQ"
      }
    },
    {
      "cell_type": "code",
      "source": [
        "arr = np.random.randint(1, 10, (7, 7))\n",
        "\n",
        "# arr = np.zeros_like(arr)\n",
        "arr[0, :] = 1\n",
        "arr[-1, :] = 1\n",
        "arr[:, 0] = 1\n",
        "arr[:, -1] = 1\n",
        "\n",
        "arr[0:-1, 1:-1] = 0\n",
        "\n",
        "arr"
      ],
      "metadata": {
        "colab": {
          "base_uri": "https://localhost:8080/"
        },
        "id": "AA3PT9K-yM_b",
        "outputId": "bf4249e8-9ca9-4e7a-9de6-a71be8852fea"
      },
      "execution_count": null,
      "outputs": [
        {
          "output_type": "execute_result",
          "data": {
            "text/plain": [
              "array([[1, 0, 0, 0, 0, 0, 1],\n",
              "       [1, 0, 0, 0, 0, 0, 1],\n",
              "       [1, 0, 0, 0, 0, 0, 1],\n",
              "       [1, 0, 0, 0, 0, 0, 1],\n",
              "       [1, 0, 0, 0, 0, 0, 1],\n",
              "       [1, 0, 0, 0, 0, 0, 1],\n",
              "       [1, 1, 1, 1, 1, 1, 1]])"
            ]
          },
          "metadata": {},
          "execution_count": 19
        }
      ]
    },
    {
      "cell_type": "markdown",
      "source": [
        "###9. Create a 8X8 matrix and fill it with a checkerboard pattern"
      ],
      "metadata": {
        "id": "JztYq2XwyTdZ"
      }
    },
    {
      "cell_type": "code",
      "source": [
        "array = np.zeros((9, 9), dtype=int)\n",
        "\n",
        "array[1::2, 0::2] = 1\n",
        "array[::2, 1::2] = 1\n",
        "array"
      ],
      "metadata": {
        "colab": {
          "base_uri": "https://localhost:8080/"
        },
        "id": "mNCc7PGsyVVV",
        "outputId": "d25d6ec7-9ede-4c58-83e1-e9dbea5128de"
      },
      "execution_count": null,
      "outputs": [
        {
          "output_type": "execute_result",
          "data": {
            "text/plain": [
              "array([[0, 1, 0, 1, 0, 1, 0, 1, 0],\n",
              "       [1, 0, 1, 0, 1, 0, 1, 0, 1],\n",
              "       [0, 1, 0, 1, 0, 1, 0, 1, 0],\n",
              "       [1, 0, 1, 0, 1, 0, 1, 0, 1],\n",
              "       [0, 1, 0, 1, 0, 1, 0, 1, 0],\n",
              "       [1, 0, 1, 0, 1, 0, 1, 0, 1],\n",
              "       [0, 1, 0, 1, 0, 1, 0, 1, 0],\n",
              "       [1, 0, 1, 0, 1, 0, 1, 0, 1],\n",
              "       [0, 1, 0, 1, 0, 1, 0, 1, 0]])"
            ]
          },
          "metadata": {},
          "execution_count": 20
        }
      ]
    },
    {
      "cell_type": "markdown",
      "source": [
        "##Problem - 3: Array Operations"
      ],
      "metadata": {
        "id": "h8_PStAPyYOw"
      }
    },
    {
      "cell_type": "code",
      "source": [
        "x = np.array([[1, 2], [3, 5]])\n",
        "y = np.array([[5, 6], [7, 8]])\n",
        "v = np.array([9, 10])\n",
        "w = np.array([11, 12])"
      ],
      "metadata": {
        "id": "IiCKasYNyaVy"
      },
      "execution_count": null,
      "outputs": []
    },
    {
      "cell_type": "markdown",
      "source": [
        "###1. Add Arrays"
      ],
      "metadata": {
        "id": "P46xlOxCyc5R"
      }
    },
    {
      "cell_type": "code",
      "source": [
        "sum = x + y\n",
        "sum1 = v + w\n",
        "print(sum)\n",
        "print()\n",
        "print(sum1)"
      ],
      "metadata": {
        "colab": {
          "base_uri": "https://localhost:8080/"
        },
        "id": "htXq4StDyemm",
        "outputId": "3d7a61b4-154a-4311-ab75-82261875313f"
      },
      "execution_count": null,
      "outputs": [
        {
          "output_type": "stream",
          "name": "stdout",
          "text": [
            "[[ 6  8]\n",
            " [10 13]]\n",
            "\n",
            "[20 22]\n"
          ]
        }
      ]
    },
    {
      "cell_type": "markdown",
      "source": [
        "###2. Subtract Arrays"
      ],
      "metadata": {
        "id": "UHhudjOjyTPW"
      }
    },
    {
      "cell_type": "code",
      "source": [
        "sub = x - y\n",
        "sub1 = v - w\n",
        "print(sub)\n",
        "print()\n",
        "print(sub1)"
      ],
      "metadata": {
        "colab": {
          "base_uri": "https://localhost:8080/"
        },
        "id": "3zu9JcBByk7C",
        "outputId": "a3e66986-6768-475a-c6e8-79d19fdbf54e"
      },
      "execution_count": null,
      "outputs": [
        {
          "output_type": "stream",
          "name": "stdout",
          "text": [
            "[[-4 -4]\n",
            " [-4 -3]]\n",
            "\n",
            "[-2 -2]\n"
          ]
        }
      ]
    },
    {
      "cell_type": "markdown",
      "source": [
        "###3. Multiply Array With Integer"
      ],
      "metadata": {
        "id": "yrHbDXUaypWM"
      }
    },
    {
      "cell_type": "code",
      "source": [
        "mulArr = 7 * x\n",
        "mulArr"
      ],
      "metadata": {
        "colab": {
          "base_uri": "https://localhost:8080/"
        },
        "id": "KmSsixhIyqv2",
        "outputId": "3c586c4d-f9e2-4000-9133-62f675425f41"
      },
      "execution_count": null,
      "outputs": [
        {
          "output_type": "execute_result",
          "data": {
            "text/plain": [
              "array([[ 7, 14],\n",
              "       [21, 35]])"
            ]
          },
          "metadata": {},
          "execution_count": 24
        }
      ]
    },
    {
      "cell_type": "markdown",
      "source": [
        "###4. Square of Each Element of Array"
      ],
      "metadata": {
        "id": "9y5gISdQytlO"
      }
    },
    {
      "cell_type": "code",
      "source": [
        "powArr = x ** 2\n",
        "powArr"
      ],
      "metadata": {
        "colab": {
          "base_uri": "https://localhost:8080/"
        },
        "id": "M0-b6kGfyvhe",
        "outputId": "5c1d7775-ead1-4f05-c311-bc1836a63b6f"
      },
      "execution_count": null,
      "outputs": [
        {
          "output_type": "execute_result",
          "data": {
            "text/plain": [
              "array([[ 1,  4],\n",
              "       [ 9, 25]])"
            ]
          },
          "metadata": {},
          "execution_count": 25
        }
      ]
    },
    {
      "cell_type": "markdown",
      "source": [
        "###5. Dot Product"
      ],
      "metadata": {
        "id": "_PeG_5v_yx7G"
      }
    },
    {
      "cell_type": "code",
      "source": [
        "vDotw = np.dot(v, w)\n",
        "xDotv = np.dot(x, v)\n",
        "xDoty = np.dot(x, y)\n",
        "\n",
        "print(f\"V.W: {vDotw}\")\n",
        "print(f\"X.V: {xDotv}\")\n",
        "print(f\"X.Y: \\n{xDoty}\")"
      ],
      "metadata": {
        "colab": {
          "base_uri": "https://localhost:8080/"
        },
        "id": "Hd5NK_iGyzYq",
        "outputId": "ccfe89ad-93bd-428b-9e6c-e66d696dec5a"
      },
      "execution_count": null,
      "outputs": [
        {
          "output_type": "stream",
          "name": "stdout",
          "text": [
            "V.W: 219\n",
            "X.V: [29 77]\n",
            "X.Y: \n",
            "[[19 22]\n",
            " [50 58]]\n"
          ]
        }
      ]
    },
    {
      "cell_type": "markdown",
      "source": [
        "###6. Concatenate - 1"
      ],
      "metadata": {
        "id": "4GiQ9ip7y2wN"
      }
    },
    {
      "cell_type": "code",
      "source": [
        "conxy = np.concatenate((x, y), axis = 0)\n",
        "convw = np.vstack((v, w))\n",
        "print(conxy)\n",
        "print()\n",
        "print(convw)"
      ],
      "metadata": {
        "colab": {
          "base_uri": "https://localhost:8080/"
        },
        "id": "WlZ738boy4K0",
        "outputId": "a9c89ff4-de7a-4fe9-cfa1-982dea6542f8"
      },
      "execution_count": null,
      "outputs": [
        {
          "output_type": "stream",
          "name": "stdout",
          "text": [
            "[[1 2]\n",
            " [3 5]\n",
            " [5 6]\n",
            " [7 8]]\n",
            "\n",
            "[[ 9 10]\n",
            " [11 12]]\n"
          ]
        }
      ]
    },
    {
      "cell_type": "markdown",
      "source": [
        "###7. Concatenate - 2 (Dimension Mismatch)"
      ],
      "metadata": {
        "id": "hPnD0vr8y7VN"
      }
    },
    {
      "cell_type": "code",
      "source": [
        "conxv = np.concatenate((x, v), axis = 0)\n",
        "conxv\n",
        "##This cause error because the arrays should have the same number of dimensions\n",
        "#x is a 2D array where as v is a 1D array"
      ],
      "metadata": {
        "colab": {
          "base_uri": "https://localhost:8080/",
          "height": 228
        },
        "id": "qsDhVmYSy9VW",
        "outputId": "395736b2-cc31-49d9-89d0-77c3a86fc03b"
      },
      "execution_count": null,
      "outputs": [
        {
          "output_type": "error",
          "ename": "ValueError",
          "evalue": "all the input arrays must have same number of dimensions, but the array at index 0 has 2 dimension(s) and the array at index 1 has 1 dimension(s)",
          "traceback": [
            "\u001b[0;31m---------------------------------------------------------------------------\u001b[0m",
            "\u001b[0;31mValueError\u001b[0m                                Traceback (most recent call last)",
            "\u001b[0;32m<ipython-input-28-ee772db1a997>\u001b[0m in \u001b[0;36m<cell line: 0>\u001b[0;34m()\u001b[0m\n\u001b[0;32m----> 1\u001b[0;31m \u001b[0mconxv\u001b[0m \u001b[0;34m=\u001b[0m \u001b[0mnp\u001b[0m\u001b[0;34m.\u001b[0m\u001b[0mconcatenate\u001b[0m\u001b[0;34m(\u001b[0m\u001b[0;34m(\u001b[0m\u001b[0mx\u001b[0m\u001b[0;34m,\u001b[0m \u001b[0mv\u001b[0m\u001b[0;34m)\u001b[0m\u001b[0;34m,\u001b[0m \u001b[0maxis\u001b[0m \u001b[0;34m=\u001b[0m \u001b[0;36m0\u001b[0m\u001b[0;34m)\u001b[0m\u001b[0;34m\u001b[0m\u001b[0;34m\u001b[0m\u001b[0m\n\u001b[0m\u001b[1;32m      2\u001b[0m \u001b[0mconxv\u001b[0m\u001b[0;34m\u001b[0m\u001b[0;34m\u001b[0m\u001b[0m\n\u001b[1;32m      3\u001b[0m \u001b[0;31m##This cause error because the arrays should have the same number of dimensions\u001b[0m\u001b[0;34m\u001b[0m\u001b[0;34m\u001b[0m\u001b[0m\n\u001b[1;32m      4\u001b[0m \u001b[0;31m#x is a 2D array where as v is a 1D array\u001b[0m\u001b[0;34m\u001b[0m\u001b[0;34m\u001b[0m\u001b[0m\n",
            "\u001b[0;31mValueError\u001b[0m: all the input arrays must have same number of dimensions, but the array at index 0 has 2 dimension(s) and the array at index 1 has 1 dimension(s)"
          ]
        }
      ]
    },
    {
      "cell_type": "markdown",
      "source": [
        "##Problem - 4: Matrix Operations"
      ],
      "metadata": {
        "id": "FN6czooqzASb"
      }
    },
    {
      "cell_type": "code",
      "source": [
        "A = np.array([[3, 4], [7, 8]])\n",
        "B = np.array([[5, 3], [2, 1]])"
      ],
      "metadata": {
        "id": "yTQCcMk0zB6v"
      },
      "execution_count": null,
      "outputs": []
    },
    {
      "cell_type": "markdown",
      "source": [
        "###1. A.A^-1 = I"
      ],
      "metadata": {
        "id": "eXA9ZNyizEAE"
      }
    },
    {
      "cell_type": "code",
      "source": [
        "A_Inverse = np.linalg.inv(A)\n",
        "proof = np.round(np.matmul(A, A_Inverse))\n",
        "proof"
      ],
      "metadata": {
        "colab": {
          "base_uri": "https://localhost:8080/"
        },
        "id": "QjxOQWk-zFOK",
        "outputId": "92d2eb99-9426-43d8-c6ff-d4afd7f8ff31"
      },
      "execution_count": null,
      "outputs": [
        {
          "output_type": "execute_result",
          "data": {
            "text/plain": [
              "array([[1., 0.],\n",
              "       [0., 1.]])"
            ]
          },
          "metadata": {},
          "execution_count": 30
        }
      ]
    },
    {
      "cell_type": "markdown",
      "source": [
        "###2. AB != BA"
      ],
      "metadata": {
        "id": "Jh8snXPXzHze"
      }
    },
    {
      "cell_type": "code",
      "source": [
        "AB = np.matmul(A, B)\n",
        "BA = np.matmul(B, A)\n",
        "\n",
        "print(f\"AB:\\n{AB} \\nBA:\\n{BA}\")"
      ],
      "metadata": {
        "colab": {
          "base_uri": "https://localhost:8080/"
        },
        "id": "hKssAFD1zJns",
        "outputId": "7dbf3eec-f762-42ab-8fbe-34adeb00b2db"
      },
      "execution_count": null,
      "outputs": [
        {
          "output_type": "stream",
          "name": "stdout",
          "text": [
            "AB:\n",
            "[[23 13]\n",
            " [51 29]] \n",
            "BA:\n",
            "[[36 44]\n",
            " [13 16]]\n"
          ]
        }
      ]
    },
    {
      "cell_type": "markdown",
      "source": [
        "###3. (AB)T = BT.AT"
      ],
      "metadata": {
        "id": "w0X0L9nozMPp"
      }
    },
    {
      "cell_type": "code",
      "source": [
        "AB = np.matmul(A, B)\n",
        "AB_T = AB.T\n",
        "B_T = B.T\n",
        "A_T = A.T\n",
        "B_T_Dot_A_T = np.matmul(B_T, A_T)\n",
        "\n",
        "print(f\"AB_T: \\n{AB_T} \\n\\n B_T.A_T: \\n{B_T_Dot_A_T}\")"
      ],
      "metadata": {
        "colab": {
          "base_uri": "https://localhost:8080/"
        },
        "id": "m2I6rEGHzOFh",
        "outputId": "9d8a73b0-248d-4322-b2ae-4c1c806e51ea"
      },
      "execution_count": null,
      "outputs": [
        {
          "output_type": "stream",
          "name": "stdout",
          "text": [
            "AB_T: \n",
            "[[23 51]\n",
            " [13 29]] \n",
            "\n",
            " B_T.A_T: \n",
            "[[23 51]\n",
            " [13 29]]\n"
          ]
        }
      ]
    },
    {
      "cell_type": "markdown",
      "source": [
        "###Linear Equation Using Inverse Method"
      ],
      "metadata": {
        "id": "5MBvgAOczQuA"
      }
    },
    {
      "cell_type": "code",
      "source": [
        "A = np.array([[2, -3, 1],\n",
        "              [1, -1, 2],\n",
        "              [3, 1,  -1]])\n",
        "B = np.array([-1, -3, 9])\n",
        "\n",
        "A_Inverse = np.linalg.inv(A)\n",
        "\n",
        "X = np.matmul(A_Inverse, B)\n",
        "\n",
        "print(f\"[x y z] = {X}\")"
      ],
      "metadata": {
        "colab": {
          "base_uri": "https://localhost:8080/"
        },
        "id": "sG1nsKUGzSdG",
        "outputId": "7ad12a35-e55e-429c-9781-8b8e6fbd81dc"
      },
      "execution_count": null,
      "outputs": [
        {
          "output_type": "stream",
          "name": "stdout",
          "text": [
            "[x y z] = [ 2.  1. -2.]\n"
          ]
        }
      ]
    },
    {
      "cell_type": "markdown",
      "source": [
        "##Numpy Speed"
      ],
      "metadata": {
        "id": "fnG-iosezUuH"
      }
    },
    {
      "cell_type": "code",
      "source": [
        "size = 1000000\n",
        "matrices = 1000\n",
        "\n",
        "# Use numpy arrays instead of lists for better performance\n",
        "pyArr1 = np.arange(size)  # Changed to numpy array\n",
        "pyArr2 = np.arange(size)  # Changed to numpy array\n",
        "\n",
        "npArr1 = np.arange(size)\n",
        "npArr2 = np.arange(size)\n",
        "\n",
        "sTime = time.time()\n",
        "pySum = npArr1 + npArr2  # Using numpy for array addition\n",
        "pyTimeAdd = time.time() - sTime\n",
        "\n",
        "sTime = time.time()\n",
        "npSum = npArr1 + npArr2\n",
        "npTimeAdd = time.time() - sTime\n",
        "\n",
        "print(f\"Addition Time: \\nNumpy: {npTimeAdd:.5f} \\nNormal Py list: {pyTimeAdd:.5f}\\n\")\n",
        "\n",
        "sTime = time.time()\n",
        "pyMul = npArr1 * npArr2  # Using numpy for element-wise multiplication\n",
        "pyTimeMul = time.time() - sTime\n",
        "\n",
        "sTime = time.time()\n",
        "npMul = npArr1 * npArr2\n",
        "npTimeMul = time.time() - sTime\n",
        "\n",
        "print(f\"Element Multiplication Time: \\nNumpy: {npTimeMul:.5f} \\nNormal Py list: {pyTimeMul:.5f}\\n\")\n",
        "\n",
        "# Fix the dot product calculation\n",
        "sTime = time.time()\n",
        "pyDot = np.dot(pyArr1, pyArr2)  # Using numpy for dot product\n",
        "pyTimeDot = time.time() - sTime\n",
        "\n",
        "sTime = time.time()\n",
        "npDot = np.dot(npArr1, npArr2)\n",
        "npTimeDot = time.time() - sTime\n",
        "\n",
        "print(f\"Dot Product Time: \\nNumpy: {npTimeDot:.5f} \\nNormal Py list: {pyTimeDot:.5f}\\n\")\n",
        "\n",
        "# Creating matrices using numpy\n",
        "npMat1 = np.arange(matrices**2).reshape(matrices, matrices)\n",
        "npMat2 = np.arange(matrices**2).reshape(matrices, matrices)\n",
        "\n",
        "# Timing matrix multiplication\n",
        "sTime = time.time()\n",
        "pyMatMul = np.matmul(npMat1, npMat2)  # Using numpy for matrix multiplication\n",
        "pyTimeMatMul = time.time() - sTime\n",
        "\n",
        "sTime = time.time()\n",
        "npMatMul = np.dot(npMat1, npMat2)\n",
        "npTimeMatMul = time.time() - sTime\n",
        "\n",
        "print(f\"Matrix Multiplication Time: \\nNumpy: {npTimeMatMul:.5f} \\nNormal Py list: {pyTimeMatMul:.5f}\\n\")"
      ],
      "metadata": {
        "id": "fuLbyCDezaLN",
        "outputId": "ee8cbc4e-3924-4b58-835e-c9aa9f2e8f99",
        "colab": {
          "base_uri": "https://localhost:8080/"
        }
      },
      "execution_count": null,
      "outputs": [
        {
          "output_type": "stream",
          "name": "stdout",
          "text": [
            "Addition Time: \n",
            "Numpy: 0.00884 \n",
            "Normal Py list: 0.00913\n",
            "\n",
            "Element Multiplication Time: \n",
            "Numpy: 0.00756 \n",
            "Normal Py list: 0.00869\n",
            "\n",
            "Dot Product Time: \n",
            "Numpy: 0.00306 \n",
            "Normal Py list: 0.00285\n",
            "\n",
            "Matrix Multiplication Time: \n",
            "Numpy: 2.41170 \n",
            "Normal Py list: 2.36333\n",
            "\n"
          ]
        }
      ]
    },
    {
      "cell_type": "markdown",
      "source": [],
      "metadata": {
        "id": "xYQOB-1ozUqm"
      }
    }
  ]
}